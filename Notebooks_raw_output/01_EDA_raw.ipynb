{
 "cells": [
  {
   "cell_type": "markdown",
   "id": "030313f0-ea29-44e9-9769-db23bcbdc8f0",
   "metadata": {},
   "source": [
    "### EDA\n",
    "Frankly, there already are tools that can automate our EDA (eg Pandas Profiling, SweetViz etc). We neednt have llama code it out for us. However the point of this repo is to see what llama is capable of."
   ]
  },
  {
   "cell_type": "code",
   "execution_count": null,
   "id": "89c1ded9-1206-45f1-bc6d-2b68c619fc05",
   "metadata": {},
   "outputs": [],
   "source": []
  }
 ],
 "metadata": {
  "kernelspec": {
   "display_name": "Python 3 (ipykernel)",
   "language": "python",
   "name": "python3"
  },
  "language_info": {
   "codemirror_mode": {
    "name": "ipython",
    "version": 3
   },
   "file_extension": ".py",
   "mimetype": "text/x-python",
   "name": "python",
   "nbconvert_exporter": "python",
   "pygments_lexer": "ipython3",
   "version": "3.12.0"
  }
 },
 "nbformat": 4,
 "nbformat_minor": 5
}
