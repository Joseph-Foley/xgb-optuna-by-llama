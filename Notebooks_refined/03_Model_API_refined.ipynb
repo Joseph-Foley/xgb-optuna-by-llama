{
 "cells": [
  {
   "cell_type": "markdown",
   "id": "c382f6c5-037e-476f-afd6-e5929005133b",
   "metadata": {},
   "source": [
    "### Model API\n",
    "Lets see if the LLM can provide us with code that can deploy the model using the library FastAPI"
   ]
  },
  {
   "cell_type": "markdown",
   "id": "db8fc361-453f-47b5-ab97-57c900961335",
   "metadata": {},
   "source": [
    "**Prompt:** I have an xgb model saved in my local directory as a pickle file. Can you deploy the model using the library FastAPI?\n",
    "\n",
    "**Result:**"
   ]
  },
  {
   "cell_type": "code",
   "execution_count": 1,
   "id": "a1c80b1b-cee7-45f2-9924-19c878b86190",
   "metadata": {},
   "outputs": [],
   "source": [
    "import pickle\n",
    "\n",
    "with open('xgb_model.pkl', 'rb') as file:\n",
    "   model = pickle.load(file)"
   ]
  },
  {
   "cell_type": "code",
   "execution_count": 6,
   "id": "2095d4ed-7c9d-4f85-bc13-3a459feb7974",
   "metadata": {},
   "outputs": [],
   "source": [
    "#Intervened - added my own features\n",
    "from fastapi import FastAPI\n",
    "from pydantic import BaseModel, Field #added Field for my features\n",
    "\n",
    "class Data(BaseModel):\n",
    "    tenure\t:\tint\n",
    "    MonthlyCharges\t:\tint\n",
    "    TotalCharges\t:\tfloat\n",
    "    TotalServices\t:\tfloat\n",
    "    gender_Male\t:\tint\n",
    "    InternetService_Fiber_optic\t:\tint = Field(alias='InternetService_Fiber optic')\n",
    "    InternetService_No\t:\tint\n",
    "    Contract_One_year\t:\tint = Field(alias='Contract_One year')\n",
    "    Contract_Two_year\t:\tint = Field(alias='Contract_Two year')\n",
    "    PaymentMethod_Credit_card_automatic\t:\tint = Field(alias='PaymentMethod_Credit card (automatic)')\n",
    "    PaymentMethod_Electronic_check\t:\tint = Field(alias='PaymentMethod_Electronic check')\n",
    "    PaymentMethod_Mailed_check\t:\tint = Field(alias='PaymentMethod_Mailed check')\n",
    "    SeniorCitizen\t:\tint\n",
    "    Partner\t:\tint\n",
    "    Dependents\t:\tint\n",
    "    PhoneService\t:\tint\n",
    "    MultipleLines\t:\tint\n",
    "    OnlineSecurity\t:\tint\n",
    "    OnlineBackup\t:\tint\n",
    "    DeviceProtection\t:\tint\n",
    "    TechSupport\t:\tint\n",
    "    StreamingTV\t:\tint\n",
    "    StreamingMovies\t:\tint\n",
    "    PaperlessBilling\t:\tint\n",
    "\n",
    "   # Add more features as needed\n",
    "\n",
    "app = FastAPI()"
   ]
  },
  {
   "cell_type": "code",
   "execution_count": 7,
   "id": "7e3d7b13-8c28-4125-827e-891c5a820320",
   "metadata": {},
   "outputs": [],
   "source": [
    "#Intervened - added my own features\n",
    "@app.post('/predict')\n",
    "def predict(data: Data):\n",
    "   # Prepare data for prediction\n",
    "   data_to_predict = [[data.tenure, \tdata.MonthlyCharges, \tdata.TotalCharges,\n",
    "                       data.TotalServices, \tdata.gender_Male, \tdata.InternetService_Fiber_optic,\n",
    "                       data.InternetService_No, \tdata.Contract_One_year, \tdata.Contract_Two_year,\n",
    "                       data.PaymentMethod_Credit_card_automatic, \tdata.PaymentMethod_Electronic_check,\n",
    "                       data.PaymentMethod_Mailed_check, \tdata.SeniorCitizen, \tdata.Partner,\n",
    "                       data.Dependents, \tdata.PhoneService, \tdata.MultipleLines,\n",
    "                       data.OnlineSecurity, \tdata.OnlineBackup, \tdata.DeviceProtection,\n",
    "                       data.TechSupport, \tdata.StreamingTV, \tdata.StreamingMovies, \tdata.PaperlessBilling,\n",
    "                       ]] # Add more features as needed\n",
    "\n",
    "   # Predict the class\n",
    "   prediction = model.predict(data_to_predict)\n",
    "\n",
    "   # Return the result\n",
    "   return {'prediction': prediction[0]}"
   ]
  },
  {
   "cell_type": "code",
   "execution_count": null,
   "id": "445b7dc8-5872-4631-8803-e12882bd1c77",
   "metadata": {},
   "outputs": [],
   "source": [
    "#added this later\n",
    "if __name__ == '__main__':\n",
    "    uvicorn.run(app, host='127.0.0.1', port=80)"
   ]
  },
  {
   "cell_type": "code",
   "execution_count": null,
   "id": "51788456-0fdd-4898-b20c-7a84a486fe34",
   "metadata": {},
   "outputs": [],
   "source": [
    "#To be run in console CLI\n",
    "uvicorn main:app --reload"
   ]
  },
  {
   "cell_type": "markdown",
   "id": "b16451f8-bb76-47ff-b572-29548363289f",
   "metadata": {},
   "source": [
    "The code is mostly legit, its missing the uvicorn run method that maps host and port. However the API cannot be launched from here since its a jupyter notebook. It'd need to be in a py file. \n",
    "\n",
    "The LLM commentary even told us what we had to adjust to suit our models features.\n",
    "\n",
    "Now what if we wished to dockerise this API so that we could easily deploy it on a cloud service?\n",
    "\n",
    "**Prompt:** I want to deploy this with Docker. Can you write a docker file that would accomplish this?\n",
    "\n",
    "**Result:**"
   ]
  },
  {
   "cell_type": "code",
   "execution_count": null,
   "id": "1bae37ac-2baf-40fd-ac9b-f8d551423b43",
   "metadata": {},
   "outputs": [],
   "source": [
    "# Use an official Python runtime as a parent image\n",
    "FROM python:3.8-slim-buster\n",
    "\n",
    "# Set work directory\n",
    "WORKDIR /app\n",
    "\n",
    "# Install dependencies\n",
    "COPY requirements.txt /app/\n",
    "RUN pip install --no-cache-dir -r requirements.txt\n",
    "\n",
    "# Copy the current directory contents into the container at /app\n",
    "COPY . /app/\n",
    "\n",
    "# Make port 80 available to the world outside this container\n",
    "EXPOSE 80\n",
    "\n",
    "# Run the application\n",
    "CMD [\"uvicorn\", \"main:app\", \"--host\", \"0.0.0.0\", \"--port\", \"80\"]"
   ]
  },
  {
   "cell_type": "code",
   "execution_count": null,
   "id": "a0aeaaea-f7c6-471a-bace-38bba6512517",
   "metadata": {},
   "outputs": [],
   "source": [
    "# Build & run (CLI)\n",
    "docker build -t my-fastapi-app .\n",
    "docker run -p 80:80 my-fastapi-app"
   ]
  },
  {
   "cell_type": "markdown",
   "id": "bfbb0ec5-b39c-4de8-b791-4fe2160b830e",
   "metadata": {},
   "source": [
    "Well, that would work. The environment variables are not necessary though (removed in this notebook). A few edits to conform to the repo might be needed too. It's not too dissimilar to what FastAPI recommends: https://fastapi.tiangolo.com/deployment/docker/"
   ]
  }
 ],
 "metadata": {
  "kernelspec": {
   "display_name": "Python 3 (ipykernel)",
   "language": "python",
   "name": "python3"
  },
  "language_info": {
   "codemirror_mode": {
    "name": "ipython",
    "version": 3
   },
   "file_extension": ".py",
   "mimetype": "text/x-python",
   "name": "python",
   "nbconvert_exporter": "python",
   "pygments_lexer": "ipython3",
   "version": "3.11.5"
  }
 },
 "nbformat": 4,
 "nbformat_minor": 5
}
